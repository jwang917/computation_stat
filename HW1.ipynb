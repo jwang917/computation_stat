{
 "cells": [
  {
   "cell_type": "markdown",
   "metadata": {},
   "source": [
    "### Homework 1 by Jian Wang  \n",
    "#### Question 1"
   ]
  },
  {
   "cell_type": "code",
   "execution_count": 1,
   "metadata": {
    "ExecuteTime": {
     "end_time": "2019-02-01T04:08:15.457751Z",
     "start_time": "2019-02-01T04:08:13.950834Z"
    }
   },
   "outputs": [],
   "source": [
    "import pymc as pm\n",
    "import numpy as np\n",
    "from IPython.core.pylabtools import figsize\n",
    "from matplotlib import pyplot as plt"
   ]
  },
  {
   "cell_type": "code",
   "execution_count": 2,
   "metadata": {
    "ExecuteTime": {
     "end_time": "2019-02-01T04:08:15.462546Z",
     "start_time": "2019-02-01T04:08:15.459627Z"
    }
   },
   "outputs": [],
   "source": [
    "# prepare the data\n",
    "count_data = np.loadtxt(\"data/txtdata.csv\")\n",
    "n_count_data = len(count_data)"
   ]
  },
  {
   "cell_type": "markdown",
   "metadata": {},
   "source": [
    "(a) Assuming the change of behavior happened at $\\tau$ =40, model the prior distributions with different $\\lambda$"
   ]
  },
  {
   "cell_type": "code",
   "execution_count": 27,
   "metadata": {
    "ExecuteTime": {
     "end_time": "2019-02-01T04:13:40.287369Z",
     "start_time": "2019-02-01T04:13:40.282693Z"
    }
   },
   "outputs": [],
   "source": [
    "# Build up the priors. Use tao being 40 as our assumption.\n",
    "# We are creating the random number generators. \n",
    "alpha_1 = 40.0 / sum(count_data[:40])\n",
    "alpha_2 = (1.0*n_count_data-40) / sum(count_data[40:])\n",
    "\n",
    "lambda_1 = pm.Exponential(\"lambda_1\", alpha_1)\n",
    "lambda_2 = pm.Exponential(\"lambda_2\", alpha_2)\n",
    "\n",
    "tau = 40"
   ]
  },
  {
   "cell_type": "code",
   "execution_count": 28,
   "metadata": {
    "ExecuteTime": {
     "end_time": "2019-02-01T04:13:40.635191Z",
     "start_time": "2019-02-01T04:13:40.631543Z"
    }
   },
   "outputs": [],
   "source": [
    "# Create the random variable for generating the counts data.\n",
    "@pm.deterministic\n",
    "def lambda_(tau=tau, lambda_1=lambda_1, lambda_2=lambda_2):\n",
    "    out = np.zeros(n_count_data)\n",
    "    out[:tau] = lambda_1  # lambda before tau is lambda1\n",
    "    out[tau:] = lambda_2  # lambda after (and including) tau is lambda2\n",
    "    return out"
   ]
  },
  {
   "cell_type": "code",
   "execution_count": 29,
   "metadata": {
    "ExecuteTime": {
     "end_time": "2019-02-01T04:13:40.983130Z",
     "start_time": "2019-02-01T04:13:40.979873Z"
    }
   },
   "outputs": [],
   "source": [
    "# Doing the model building.\n",
    "\n",
    "observation = pm.Poisson(\"obs\", lambda_, value=count_data, observed=True)\n",
    "\n",
    "model = pm.Model([observation, lambda_1, lambda_2])"
   ]
  },
  {
   "cell_type": "code",
   "execution_count": 30,
   "metadata": {
    "ExecuteTime": {
     "end_time": "2019-02-01T04:13:43.352441Z",
     "start_time": "2019-02-01T04:13:41.306198Z"
    }
   },
   "outputs": [
    {
     "name": "stdout",
     "output_type": "stream",
     "text": [
      " [-----------------100%-----------------] 40000 of 40000 complete in 2.0 sec"
     ]
    }
   ],
   "source": [
    "# Doing the simulation process, ie MCMC\n",
    "mcmc = pm.MCMC(model)\n",
    "mcmc.sample(40000, 10000, 1)"
   ]
  },
  {
   "cell_type": "code",
   "execution_count": 31,
   "metadata": {
    "ExecuteTime": {
     "end_time": "2019-02-01T04:13:43.356479Z",
     "start_time": "2019-02-01T04:13:43.354143Z"
    }
   },
   "outputs": [],
   "source": [
    "# Collect all the simulation result w.r.t lambda1, lambda2 and tau.\n",
    "lambda_1_samples = mcmc.trace('lambda_1')[:]\n",
    "lambda_2_samples = mcmc.trace('lambda_2')[:]\n",
    "# There is no need for the tau, since it is just a value, 40."
   ]
  },
  {
   "cell_type": "code",
   "execution_count": 32,
   "metadata": {
    "ExecuteTime": {
     "end_time": "2019-02-01T04:13:43.364343Z",
     "start_time": "2019-02-01T04:13:43.357685Z"
    }
   },
   "outputs": [],
   "source": [
    "# Draw the simulation result, ie the distributions. Using a function.\n",
    "\n",
    "def drawPosteriors(lambda_1_samples,lambda_2_samples,tau_ls ):\n",
    "    figsize(12.5, 10)\n",
    "    # histogram of the samples:\n",
    "\n",
    "    ax = plt.subplot(311)\n",
    "    ax.set_autoscaley_on(False)\n",
    "\n",
    "    plt.hist(lambda_1_samples, histtype='stepfilled', bins=30, alpha=0.85,\n",
    "             label=\"posterior of $\\lambda_1$\", color=\"#A60628\", density=True)\n",
    "    plt.legend(loc=\"upper left\")\n",
    "    plt.title(r\"\"\"Posterior distributions of the variables\n",
    "        $\\lambda_1,\\;\\lambda_2,\\;\\tau$\"\"\")\n",
    "    plt.xlim([15, 35])\n",
    "    plt.xlabel(\"$\\lambda_1$ value\")\n",
    "\n",
    "    ax = plt.subplot(312)\n",
    "    ax.set_autoscaley_on(False)\n",
    "    plt.hist(lambda_2_samples, histtype='stepfilled', bins=30, alpha=0.85,\n",
    "             label=\"posterior of $\\lambda_2$\", color=\"#7A68A6\", density=True)\n",
    "    plt.legend(loc=\"upper left\")\n",
    "    plt.xlim([15, 35])\n",
    "    plt.xlabel(\"$\\lambda_2$ value\")\n",
    "\n",
    "\n",
    "    plt.subplot(313)\n",
    "    w = 1.0 / tau_ls.shape[0] * np.ones_like(tau_ls)\n",
    "    plt.hist(tau_ls, bins=n_count_data, alpha=1,\n",
    "             label=r\"posterior of $\\tau$\",\n",
    "             color=\"#467821\", weights=w, rwidth=2.)\n",
    "    plt.xticks(np.arange(n_count_data))\n",
    "\n",
    "    plt.legend(loc=\"upper left\")\n",
    "    plt.ylim([0, .75])\n",
    "    plt.xlim([0, 70])\n",
    "    plt.xlabel(r\"$\\tau$ (in days)\")\n",
    "    plt.ylabel(\"probability\")"
   ]
  },
  {
   "cell_type": "code",
   "execution_count": 33,
   "metadata": {
    "ExecuteTime": {
     "end_time": "2019-02-01T04:13:44.018845Z",
     "start_time": "2019-02-01T04:13:43.366372Z"
    }
   },
   "outputs": [
    {
     "data": {
      "image/png": "[encoded data removed]",
      "text/plain": [
       "<Figure size 900x720 with 3 Axes>"
      ]
     },
     "metadata": {
      "needs_background": "light"
     },
     "output_type": "display_data"
    }
   ],
   "source": [
    "drawPosteriors(lambda_1_samples,lambda_2_samples,tau_ls)"
   ]
  },
  {
   "cell_type": "markdown",
   "metadata": {},
   "source": [
    "The assumption of $\\tau$ being 40 does not seem to be a good choice, because that the two distributions are overlapping with each other. This means that the mean of text message received does not seem to differ, given the probability for such situation being non-negative. But the distribution of $\\tau$ is still the same as that in the unrestricted condition."
   ]
  },
  {
   "cell_type": "markdown",
   "metadata": {},
   "source": [
    "(b) Since we change our assumption of $\\tau$ to be on day 25. Then our choice of $\\lambda_1$ and $\\lambda_2$ also changed by the different initialization of hyperparameters $\\alpha_1$ and $\\alpha_2$.  \n",
    "So the process is exactly the same as above, which means all we need to do is to rerun the codes with different \"priors\"."
   ]
  },
  {
   "cell_type": "code",
   "execution_count": 34,
   "metadata": {
    "ExecuteTime": {
     "end_time": "2019-02-01T04:13:46.570637Z",
     "start_time": "2019-02-01T04:13:46.566335Z"
    }
   },
   "outputs": [],
   "source": [
    "# Build up the priors. Use tao being 40 as our assumption.\n",
    "# We are creating the random number generators. \n",
    "alpha_1 = 25.0 / sum(count_data[:25])\n",
    "alpha_2 = (1.0*n_count_data-25) / sum(count_data[25:])\n",
    "\n",
    "lambda_1 = pm.Exponential(\"lambda_1\", alpha_1)\n",
    "lambda_2 = pm.Exponential(\"lambda_2\", alpha_2)\n",
    "\n",
    "tau = 25"
   ]
  },
  {
   "cell_type": "code",
   "execution_count": 35,
   "metadata": {
    "ExecuteTime": {
     "end_time": "2019-02-01T04:13:46.950805Z",
     "start_time": "2019-02-01T04:13:46.947156Z"
    }
   },
   "outputs": [],
   "source": [
    "# Create the random variable for generating the counts data.\n",
    "@pm.deterministic\n",
    "def lambda_(tau=tau, lambda_1=lambda_1, lambda_2=lambda_2):\n",
    "    out = np.zeros(n_count_data)\n",
    "    out[:tau] = lambda_1  # lambda before tau is lambda1\n",
    "    out[tau:] = lambda_2  # lambda after (and including) tau is lambda2\n",
    "    return out"
   ]
  },
  {
   "cell_type": "code",
   "execution_count": 36,
   "metadata": {
    "ExecuteTime": {
     "end_time": "2019-02-01T04:13:47.296651Z",
     "start_time": "2019-02-01T04:13:47.293379Z"
    }
   },
   "outputs": [],
   "source": [
    "# Doing the model building.\n",
    "observation = pm.Poisson(\"obs\", lambda_, value=count_data, observed=True)\n",
    "\n",
    "model = pm.Model([observation, lambda_1, lambda_2])"
   ]
  },
  {
   "cell_type": "code",
   "execution_count": 37,
   "metadata": {
    "ExecuteTime": {
     "end_time": "2019-02-01T04:13:50.142762Z",
     "start_time": "2019-02-01T04:13:48.100702Z"
    }
   },
   "outputs": [
    {
     "name": "stdout",
     "output_type": "stream",
     "text": [
      " [-----------------100%-----------------] 40000 of 40000 complete in 2.0 sec"
     ]
    }
   ],
   "source": [
    "# Doing the simulation process, ie MCMC\n",
    "mcmc = pm.MCMC(model)\n",
    "mcmc.sample(40000, 10000, 1)"
   ]
  },
  {
   "cell_type": "code",
   "execution_count": 38,
   "metadata": {
    "ExecuteTime": {
     "end_time": "2019-02-01T04:13:50.146691Z",
     "start_time": "2019-02-01T04:13:50.144433Z"
    }
   },
   "outputs": [],
   "source": [
    "# Collect all the simulation result w.r.t lambda1, lambda2 and tau.\n",
    "lambda_1_samples = mcmc.trace('lambda_1')[:]\n",
    "lambda_2_samples = mcmc.trace('lambda_2')[:]\n",
    "# There is no need for the tau, since it is just a value, 40."
   ]
  },
  {
   "cell_type": "code",
   "execution_count": 39,
   "metadata": {
    "ExecuteTime": {
     "end_time": "2019-02-01T04:13:50.837921Z",
     "start_time": "2019-02-01T04:13:50.148083Z"
    }
   },
   "outputs": [
    {
     "data": {
      "image/png": "[encoded data removed]",
      "text/plain": [
       "<Figure size 900x720 with 3 Axes>"
      ]
     },
     "metadata": {
      "needs_background": "light"
     },
     "output_type": "display_data"
    }
   ],
   "source": [
    "drawPosteriors(lambda_1_samples,lambda_2_samples,tau_ls)"
   ]
  },
  {
   "cell_type": "markdown",
   "metadata": {},
   "source": [
    "In the plots above, we see a major portion of overlap for $\\lambda_1$ and $\\lambda_2$. This entails that the mean of the counts of text messages we received or sent in the two periods are not very differnt. Since the $\\lambda$ in a Possion distribution means the mean value that its random variable can take. Thus we can't see that the change of prior for $\\tau=25$ is a good assumption to discover the change of behavior.  \n",
    "Also the spread of the posterior distribution of $\\lambda$ seems to shrink, which will make the overlapping more likely to happen. Therefore we can't tell if the change of behavior happens."
   ]
  },
  {
   "cell_type": "markdown",
   "metadata": {},
   "source": [
    "(C) To change the distribution of $\\tau$ to be a Uniform(0,40).  "
   ]
  },
  {
   "cell_type": "code",
   "execution_count": 15,
   "metadata": {
    "ExecuteTime": {
     "end_time": "2019-02-01T03:54:19.914370Z",
     "start_time": "2019-02-01T03:54:19.909716Z"
    }
   },
   "outputs": [],
   "source": [
    "# Build up the priors. Use tao being 40 as our assumption.\n",
    "# We are creating the random number generators. \n",
    "alpha_3 = 1.0 / count_data.mean()\n",
    "\n",
    "lambda_1 = pm.Exponential(\"lambda_1\", alpha_3)\n",
    "lambda_2 = pm.Exponential(\"lambda_2\", alpha_3)\n",
    "\n",
    "tau = pm.DiscreteUniform(name=\"tau\",lower=1,upper=40)"
   ]
  },
  {
   "cell_type": "code",
   "execution_count": 16,
   "metadata": {
    "ExecuteTime": {
     "end_time": "2019-02-01T03:54:20.329484Z",
     "start_time": "2019-02-01T03:54:20.326028Z"
    }
   },
   "outputs": [],
   "source": [
    "# Create the random variable for generating the counts data.\n",
    "@pm.deterministic\n",
    "def lambda_(tau=tau, lambda_1=lambda_1, lambda_2=lambda_2):\n",
    "    out = np.zeros(n_count_data)\n",
    "    out[:tau] = lambda_1  # lambda before tau is lambda1\n",
    "    out[tau:] = lambda_2  # lambda after (and including) tau is lambda2\n",
    "    return out"
   ]
  },
  {
   "cell_type": "code",
   "execution_count": 17,
   "metadata": {
    "ExecuteTime": {
     "end_time": "2019-02-01T03:54:21.120007Z",
     "start_time": "2019-02-01T03:54:21.116315Z"
    }
   },
   "outputs": [],
   "source": [
    "# Doing the model building.\n",
    "observation = pm.Poisson(\"obs\", lambda_, value=count_data, observed=True)\n",
    "\n",
    "model = pm.Model([observation, lambda_1, lambda_2, tau])"
   ]
  },
  {
   "cell_type": "code",
   "execution_count": 18,
   "metadata": {
    "ExecuteTime": {
     "end_time": "2019-02-01T03:54:24.923642Z",
     "start_time": "2019-02-01T03:54:21.603563Z"
    }
   },
   "outputs": [
    {
     "name": "stdout",
     "output_type": "stream",
     "text": [
      " [-----------------100%-----------------] 40000 of 40000 complete in 3.3 sec"
     ]
    }
   ],
   "source": [
    "# Doing the simulation process, ie MCMC\n",
    "mcmc = pm.MCMC(model)\n",
    "mcmc.sample(40000, 10000, 1)"
   ]
  },
  {
   "cell_type": "code",
   "execution_count": 19,
   "metadata": {
    "ExecuteTime": {
     "end_time": "2019-02-01T03:54:24.928563Z",
     "start_time": "2019-02-01T03:54:24.925580Z"
    }
   },
   "outputs": [],
   "source": [
    "# Collect all the simulation result w.r.t lambda1, lambda2 and tau.\n",
    "lambda_1_samples = mcmc.trace('lambda_1')[:]\n",
    "lambda_2_samples = mcmc.trace('lambda_2')[:]\n",
    "# There is no need for the tau, since it is just a value, 40.\n",
    "tau_samples = mcmc.trace('tau')[:]"
   ]
  },
  {
   "cell_type": "code",
   "execution_count": 20,
   "metadata": {
    "ExecuteTime": {
     "end_time": "2019-02-01T03:54:25.537945Z",
     "start_time": "2019-02-01T03:54:24.931098Z"
    }
   },
   "outputs": [
    {
     "name": "stderr",
     "output_type": "stream",
     "text": [
      "/Users/jw/miniconda3/lib/python3.6/site-packages/matplotlib/axes/_axes.py:6571: UserWarning: The 'normed' kwarg is deprecated, and has been replaced by the 'density' kwarg.\n",
      "  warnings.warn(\"The 'normed' kwarg is deprecated, and has been \"\n",
      "/Users/jw/miniconda3/lib/python3.6/site-packages/matplotlib/axes/_axes.py:6571: UserWarning: The 'normed' kwarg is deprecated, and has been replaced by the 'density' kwarg.\n",
      "  warnings.warn(\"The 'normed' kwarg is deprecated, and has been \"\n"
     ]
    },
    {
     "data": {
      "text/plain": [
       "Text(0,0.5,'probability')"
      ]
     },
     "execution_count": 20,
     "metadata": {},
     "output_type": "execute_result"
    },
    {
     "data": {
      "image/png": "[encoded data removed]",
      "text/plain": [
       "<Figure size 900x720 with 3 Axes>"
      ]
     },
     "metadata": {
      "needs_background": "light"
     },
     "output_type": "display_data"
    }
   ],
   "source": [
    "figsize(12.5, 10)\n",
    "# histogram of the samples:\n",
    "\n",
    "ax = plt.subplot(311)\n",
    "ax.set_autoscaley_on(False)\n",
    "\n",
    "plt.hist(lambda_1_samples, histtype='stepfilled', bins=30, alpha=0.85,\n",
    "         label=\"posterior of $\\lambda_1$\", color=\"#A60628\", normed=True)\n",
    "plt.legend(loc=\"upper left\")\n",
    "plt.title(r\"\"\"Posterior distributions of the variables\n",
    "    $\\lambda_1,\\;\\lambda_2,\\;\\tau$\"\"\")\n",
    "plt.xlim([5, 40])\n",
    "plt.xlabel(\"$\\lambda_1$ value\")\n",
    "\n",
    "ax = plt.subplot(312)\n",
    "ax.set_autoscaley_on(False)\n",
    "plt.hist(lambda_2_samples, histtype='stepfilled', bins=30, alpha=0.85,\n",
    "         label=\"posterior of $\\lambda_2$\", color=\"#7A68A6\", normed=True)\n",
    "plt.legend(loc=\"upper left\")\n",
    "plt.xlim([5, 40])\n",
    "plt.xlabel(\"$\\lambda_2$ value\")\n",
    "\n",
    "plt.subplot(313)\n",
    "w = 1.0 / tau_samples.shape[0] * np.ones_like(tau_samples)\n",
    "plt.hist(tau_samples, bins=n_count_data, alpha=1,\n",
    "         label=r\"posterior of $\\tau$\",\n",
    "         color=\"#467821\", weights=w, rwidth=2.)\n",
    "plt.xticks(np.arange(n_count_data))\n",
    "\n",
    "plt.legend(loc=\"upper left\")\n",
    "plt.ylim([0, .75])\n",
    "plt.xlim([0, 40])\n",
    "plt.xlabel(r\"$\\tau$ (in days)\")\n",
    "plt.ylabel(\"probability\")"
   ]
  },
  {
   "cell_type": "markdown",
   "metadata": {},
   "source": [
    "In the changing of prior distribution of $\\tau$ we can see that the good values for $\\tau$ is around 10, 13 and 5. This is quite a different result comparing with the unrestricted result for $\\tau$. And also for the distribution of $\\lambda 1$&$ \\lambda 2$, we see that the distributions have overlap and it means that we are not so sure about the change of behaivor given condition of $\\tau$ being uniformly distributed from 0 to 40."
   ]
  },
  {
   "cell_type": "markdown",
   "metadata": {},
   "source": [
    "Question 2:  \n",
    "(a)Monty Hall problem. Here is our simulation procedures and the random variables needed.  \n",
    "Random Variables:\n",
    "    1. The r.v. for assign prizes.\n",
    "    2. The r.v. for make first selection.\n",
    "    3. The r.v. for winning.\n",
    "The procedures:\n",
    "    1. Pick a door holding car by chance, ie p=1/3\n",
    "    2. Make a selection on the door, ie p=1/3.\n",
    "    3. Host open a door, two cases.\n",
    "    4. Collect the result in the unpicked and closed door.\n",
    "    5. repeat above process for 4000 times.  \n",
    "The result:  \n",
    "By the ploting of simulation result, we can see that the ratio of win over loss after switching the door is 2/1.  This means that the probability of winning by switiching door is 0.6667."
   ]
  },
  {
   "cell_type": "code",
   "execution_count": 21,
   "metadata": {
    "ExecuteTime": {
     "end_time": "2019-02-01T03:54:32.635063Z",
     "start_time": "2019-02-01T03:54:32.632295Z"
    }
   },
   "outputs": [],
   "source": [
    "import random"
   ]
  },
  {
   "cell_type": "code",
   "execution_count": 22,
   "metadata": {
    "ExecuteTime": {
     "end_time": "2019-02-01T03:54:33.336911Z",
     "start_time": "2019-02-01T03:54:33.328399Z"
    }
   },
   "outputs": [],
   "source": [
    "def simulateMontyHall(simulation_num):\n",
    "\n",
    "    # get the assignment of prize.\n",
    "    # The data structure to hold the door value is a string, first letter is the door,\n",
    "    # second letter is the prize, third letter is the open or not open.\n",
    "\n",
    "    door_ls = []\n",
    "    result_ls = []\n",
    "    count = 0\n",
    "    for i in range(simulation_num):\n",
    "        door = [\"A\", \"B\", \"C\"]\n",
    "        # Generate a random number, and mode it with 3 to mark the door with car.\n",
    "        prize_num = random.randint(1, 100) % 3\n",
    "        door = [ door[i]+\"C\" if i == prize_num else door[i]+\"G\" for i in range(len(door))]\n",
    "        # Generate another random number to mark the door player choose.\n",
    "        door = [door[i]+\"U\" if i == 0 else door[i]+\"N\" for i in range(len(door))]\n",
    "        # To decide which door the host will reveal.\n",
    "        # Two cases: for the user having the car, reveal a random one from the other two.\n",
    "        # For the user don't have the car, select the number not a prize and not a user.\n",
    "\n",
    "\n",
    "        if door[0][1] == \"C\":\n",
    "            to_open = random.randint(1,100) % 2\n",
    "            door = [ door[i]+\"O\" if i != 0 and i == to_open+1 else door[i]+\"c\" for i in range(len(door))]\n",
    "            #print(door)\n",
    "        else:\n",
    "            # now the number will be either 1 or 2.\n",
    "            to_open = prize_num %2 + 1\n",
    "            door = [ door[i]+\"O\" if i == to_open else door[i]+\"c\" for i in range(len(door)) ]\n",
    "            #print(door)\n",
    "        for i in door[1:]:\n",
    "            if i[-1] == \"c\":\n",
    "                #print(i)\n",
    "                # make the switch and decide if the switch win.\n",
    "                count += int(i[1]==\"C\")\n",
    "                result_ls.append(i)\n",
    "                door_ls.append(door)\n",
    "                break\n",
    "            \n",
    "    return count\n"
   ]
  },
  {
   "cell_type": "code",
   "execution_count": 23,
   "metadata": {
    "ExecuteTime": {
     "end_time": "2019-02-01T03:54:57.819171Z",
     "start_time": "2019-02-01T03:54:33.912632Z"
    }
   },
   "outputs": [],
   "source": [
    "# draw the simulation result.\n",
    "no_count_ls = []\n",
    "count_ls = []\n",
    "for sim_num in range(1,100000,1000):\n",
    "    count = simulateMontyHall(sim_num)\n",
    "    no_count = sim_num-count\n",
    "    count_ls.append(count)\n",
    "    no_count_ls.append(no_count)\n"
   ]
  },
  {
   "cell_type": "code",
   "execution_count": 24,
   "metadata": {
    "ExecuteTime": {
     "end_time": "2019-02-01T03:54:57.823971Z",
     "start_time": "2019-02-01T03:54:57.821600Z"
    }
   },
   "outputs": [],
   "source": [
    "index = list(range(100))"
   ]
  },
  {
   "cell_type": "code",
   "execution_count": 25,
   "metadata": {
    "ExecuteTime": {
     "end_time": "2019-02-01T03:54:57.976454Z",
     "start_time": "2019-02-01T03:54:57.826237Z"
    }
   },
   "outputs": [
    {
     "data": {
      "text/plain": [
       "Text(0,0.5,'The counts')"
      ]
     },
     "execution_count": 25,
     "metadata": {},
     "output_type": "execute_result"
    },
    {
     "data": {
      "image/png": "[encoded data removed]",
      "text/plain": [
       "<Figure size 900x720 with 1 Axes>"
      ]
     },
     "metadata": {
      "needs_background": "light"
     },
     "output_type": "display_data"
    }
   ],
   "source": [
    "ratio = [count_ls[i]/no_count_ls[i] for i in range(len(count_ls))]\n",
    "a,b,c = plt.hist(ratio)\n",
    "plt.title(\"The histogram of the ration of win over loss\")\n",
    "plt.xlabel(\"The ratio\")\n",
    "plt.ylabel(\"The counts\")"
   ]
  },
  {
   "cell_type": "code",
   "execution_count": 26,
   "metadata": {
    "ExecuteTime": {
     "end_time": "2019-02-01T03:54:58.296664Z",
     "start_time": "2019-02-01T03:54:57.978547Z"
    }
   },
   "outputs": [
    {
     "data": {
      "image/png": "[encoded data removed]",
      "text/plain": [
       "<Figure size 900x720 with 1 Axes>"
      ]
     },
     "metadata": {
      "needs_background": "light"
     },
     "output_type": "display_data"
    }
   ],
   "source": [
    "plt.style.use('seaborn-deep')\n",
    "plt.bar(index,count_ls)\n",
    "plt.bar(index,no_count_ls,color='green')\n",
    "plt.xlabel(\"The number of iteration.\")\n",
    "plt.ylabel(\"The counts of win/loss\")\n",
    "plt.title(\" The simulation result for switching doors \\n in Monty Hall problem\")\n",
    "plt.legend(loc=\"best\",labels=[\"Win\",\"Loss\"])\n",
    "plt.show()"
   ]
  },
  {
   "cell_type": "markdown",
   "metadata": {},
   "source": [
    "### (b) Solving Monty Hall Analytically:    \n",
    "Set up the problem:  \n",
    "    We define the random variable $X$ as the player first choice of door. It is clear that $S_{X}={1,2,3}$  \n",
    "  \n",
    "Then we define the events:  \n",
    "        A: Switch a door  \n",
    "        B: Winning the car  \n",
    "        C: Player initially choose the door with the car.  \n",
    "  \n",
    "Describe the output:  \n",
    "We want the $P\\{win|switch\\space door\\}=P\\{B|A\\}$  ($*$) . \n",
    "  \n",
    "Invesitgate the event's nature:  \n",
    "$A = (A\\cap{C})\\cup(A\\cap{\\bar{C}})$, where $\\bar{C}$ is the complement set of C. \n",
    "  \n",
    "Then we can modify the ($*$) expression:  \n",
    "$P\\{B|A\\}=P\\{B|(A\\cap{C})\\cup(A\\cap{\\bar{C}})\\} = P\\{B|A\\cap{C}\\}+P\\{B|A\\cap{\\bar{C}}\\}$  \n",
    "  \n",
    "Recall the condition propability formula:  \n",
    "$P\\{B|A\\} = \\frac{P\\{B\\cap{A}\\}}{P\\{A\\}}$  \n",
    "  \n",
    "Now let's compute basic probability:  \n",
    "It is common to know that choosing randomly of a three door, with only one prize behind a door will lead us to:  \n",
    "$P\\{C\\}=\\frac{1}{3}$ and $P\\{\\bar{C}\\}=\\frac{2}{3}$  \n",
    "  \n",
    "When we assume that the player first choose a door with prize.  \n",
    "After the host's action he/she switches to another door, $\\text{THIS WILL LEADS TO THE NON-CAR DOOR}$.  \n",
    "Also notice that we are investigating the strategy of switching door, therefore $P\\{A|C\\}=1$  \n",
    "Thus the chance of winning is zero by the previous setting.  \n",
    "\n",
    "$P\\{B|A\\cap{C}\\}=\\frac{P\\{B\\cap{A}\\cap{C}\\}}{P\\{A\\cap{C}\\}} = \\frac{P\\{B\\cap{A}\\cap{C}\\}*P\\{C\\}}{P\\{A|C\\}} = {0*\\frac{1}{3}\\over{1}}=0$  \n",
    "  \n",
    "We started with player choosing a door with goat ie no prize.  \n",
    "After the host revealing, which means in this situation the host must choose the door with another goat.  \n",
    "Now the player change of door will lead to the door with prize behind it.  \n",
    "Thus we have a chance of winning by switching.\n",
    "Similarly, we need to switch everytime, so $P\\{A|\\bar{C}\\}=1$  \n",
    "$P\\{B|A\\cap{\\bar{C}}\\}=\\frac{P\\{B\\cap{A}\\cap{\\bar{C}}\\}}{P\\{A\\cap{\\bar{C}}\\}} = \\frac{P\\{B\\cap{A}\\cap{\\bar{C}}\\}*P\\{\\bar{C}\\}}{P\\{A|\\bar{C}\\}} = {1*\\frac{2}{3}\\over{1}} = {2\\over{3}}$  \n",
    "  \n",
    "The final result will be:  \n",
    "$P\\{B|A\\} = P\\{B|A\\cap{C}\\}+P\\{B|A\\cap{\\bar{C}}\\} = 0+{2\\over{3}}={2\\over{3}}$  \n",
    "\n",
    "Summary:  \n",
    "Switching door seems to increase our chance of winning given a sufficient large of runs."
   ]
  },
  {
   "cell_type": "markdown",
   "metadata": {},
   "source": [
    "Question 3:  \n",
    "(a):\n",
    "To simulate the birthday that everyone takes we use the following assumption:\n",
    "    1. Every people has a equal chance of being born in anyday of the year.\n",
    "    2. All people in the class will be independent with all others in terms of their birthday.  \n",
    "The process of simulation will be:\n",
    "    1. Assign the birthday to all 40 people.\n",
    "    2. Count the number of birthdays.\n",
    "    3. Decide if there is any people who shared birthday."
   ]
  },
  {
   "cell_type": "code",
   "execution_count": 27,
   "metadata": {
    "ExecuteTime": {
     "end_time": "2019-02-01T03:54:58.301628Z",
     "start_time": "2019-02-01T03:54:58.298481Z"
    }
   },
   "outputs": [],
   "source": [
    "def simulateBirthday(n=40):\n",
    "    \"\"\"\n",
    "    This function is for simulation the result for a classical problem of people who sharing a birthday.\n",
    "    param: n as the total number of people to consider.\n",
    "    output: prob the probability of the case that among the n people sharing birthday.\n",
    "    \"\"\"\n",
    "    # Generate a random number from 0 to 365.\n",
    "    \n",
    "    stu_birthday = [random.randint(1,365) for i in range(n)]\n",
    "    check_duplicate = n == len(set(stu_birthday))\n",
    "    if check_duplicate:\n",
    "        return 0 # as the case of no shared birthday\n",
    "    else:\n",
    "        return 1 # as the case that there is shared birthday."
   ]
  },
  {
   "cell_type": "code",
   "execution_count": 28,
   "metadata": {
    "ExecuteTime": {
     "end_time": "2019-02-01T03:55:39.406291Z",
     "start_time": "2019-02-01T03:54:58.303050Z"
    }
   },
   "outputs": [],
   "source": [
    "res_ls = []\n",
    "for i in range(1000000):\n",
    "    res_ls.append(simulateBirthday())"
   ]
  },
  {
   "cell_type": "code",
   "execution_count": 29,
   "metadata": {
    "ExecuteTime": {
     "end_time": "2019-02-01T03:55:39.416194Z",
     "start_time": "2019-02-01T03:55:39.407631Z"
    }
   },
   "outputs": [
    {
     "data": {
      "text/plain": [
       "0.891368"
      ]
     },
     "execution_count": 29,
     "metadata": {},
     "output_type": "execute_result"
    }
   ],
   "source": [
    "sum(res_ls)/len(res_ls) # This is the number for probability of shared birthday."
   ]
  },
  {
   "cell_type": "markdown",
   "metadata": {},
   "source": [
    "By generating the process for one million time, it shows that the probability of having at least two people with the same birthday in a class is 0.89."
   ]
  },
  {
   "cell_type": "markdown",
   "metadata": {},
   "source": [
    "(b):  \n",
    "In this process, I need to choose the size of class to simulate the process.  \n",
    "As it turns out that the class size of 23/24 will yield the probability for being at least two people with same birthday."
   ]
  },
  {
   "cell_type": "code",
   "execution_count": 30,
   "metadata": {
    "ExecuteTime": {
     "end_time": "2019-02-01T03:56:29.503511Z",
     "start_time": "2019-02-01T03:55:39.418305Z"
    }
   },
   "outputs": [],
   "source": [
    "size_result_ls = []\n",
    "class_size_max = 100\n",
    "for j in range(class_size_max):\n",
    "    res_ls = []\n",
    "    for i in range(10000):\n",
    "        res_ls.append(simulateBirthday(j))\n",
    "    prob = sum(res_ls)/len(res_ls)\n",
    "    size_result_ls.append(prob)"
   ]
  },
  {
   "cell_type": "code",
   "execution_count": 31,
   "metadata": {
    "ExecuteTime": {
     "end_time": "2019-02-01T03:56:29.683459Z",
     "start_time": "2019-02-01T03:56:29.505132Z"
    }
   },
   "outputs": [
    {
     "data": {
      "text/plain": [
       "<matplotlib.legend.Legend at 0x1a24f575f8>"
      ]
     },
     "execution_count": 31,
     "metadata": {},
     "output_type": "execute_result"
    },
    {
     "data": {
      "image/png": "[encoded data removed]",
      "text/plain": [
       "<Figure size 900x720 with 1 Axes>"
      ]
     },
     "metadata": {
      "needs_background": "light"
     },
     "output_type": "display_data"
    }
   ],
   "source": [
    "plt.style.use(\"seaborn-muted\")\n",
    "plt.bar(index[:50],size_result_ls[:50])\n",
    "plt.hlines(y=0.5,xmin=5,xmax=45,label=\"0.5 threashold\")\n",
    "plt.xlabel(\"Class Size\")\n",
    "plt.ylabel(\"Probability\")\n",
    "plt.title(\"The distribution of shared birthday \\nwith respect to class size\")\n",
    "plt.legend(loc=\"upper left\")"
   ]
  },
  {
   "cell_type": "markdown",
   "metadata": {},
   "source": [
    "### Question 4:    \n",
    "One of the question to answer would be:  \n",
    "  \n",
    "Given the frequence of breakdown to be constant, how could we restart the service as fast as we can? In another sentence, it is to exmaine how far will be the breakdown point to the nearst station.  \n",
    "  \n",
    "To extend this reasoning a bit more, if we define the efficiency to be the total runs a service can perform given the constraint of car broken-down and packing and unpacking riders. One interesting question to ask is that how many runs can a bus perform given the two strategy."
   ]
  },
  {
   "cell_type": "code",
   "execution_count": 32,
   "metadata": {
    "ExecuteTime": {
     "end_time": "2019-02-01T03:56:29.688550Z",
     "start_time": "2019-02-01T03:56:29.684605Z"
    }
   },
   "outputs": [],
   "source": [
    "#simulate the breakdown in two cases and check gather the distance.\n",
    "def break_down_sim(runs=100):\n",
    "    \"\"\"\n",
    "    Given two case of our stretegy, we want to investigate the break-down point's distance.\n",
    "    param: case = 1 is the current situation. case = 2 is the adding 3 new stations.\n",
    "    return distance, the distance to the closest station.\n",
    "    \"\"\"\n",
    "    case1_res = []\n",
    "    case2_res = []\n",
    "    for i in range(runs):\n",
    "        break_point = random.randint(0,20)\n",
    "        # decide for the case 1, we need to compare it with the 10\n",
    "        case1_bk = int(break_point>10)*(20-break_point)+int(break_point<=10)*(break_point)\n",
    "        case1_res.append(case1_bk)\n",
    "        # decide for the case 2.\n",
    "        case2_bk = break_point % 5\n",
    "        case2_bk = int(case2_bk>2)*(5-case2_bk)+int(case2_bk<=2)*(case2_bk)\n",
    "        case2_res.append(case2_bk)\n",
    "    return case1_res, case2_res"
   ]
  },
  {
   "cell_type": "code",
   "execution_count": 33,
   "metadata": {
    "ExecuteTime": {
     "end_time": "2019-02-01T03:56:30.536930Z",
     "start_time": "2019-02-01T03:56:29.689893Z"
    }
   },
   "outputs": [],
   "source": [
    "# make a plot on the simulation results with respect the the mean distance to a nearset station.\n",
    "runs = range(1,10000,100)\n",
    "c2_mean, c1_mean = [],[]\n",
    "for i in runs:\n",
    "    c1,c2 = break_down_sim(i)\n",
    "    c1_mean.append(np.mean(c1))\n",
    "    c2_mean.append(np.mean(c2))"
   ]
  },
  {
   "cell_type": "code",
   "execution_count": 34,
   "metadata": {
    "ExecuteTime": {
     "end_time": "2019-02-01T03:56:30.923106Z",
     "start_time": "2019-02-01T03:56:30.538424Z"
    }
   },
   "outputs": [
    {
     "data": {
      "text/plain": [
       "<matplotlib.legend.Legend at 0x1a24dce710>"
      ]
     },
     "execution_count": 34,
     "metadata": {},
     "output_type": "execute_result"
    },
    {
     "data": {
      "image/png": "[encoded data removed]",
      "text/plain": [
       "<Figure size 900x720 with 1 Axes>"
      ]
     },
     "metadata": {
      "needs_background": "light"
     },
     "output_type": "display_data"
    }
   ],
   "source": [
    "plt.bar(index,c2_mean,alpha=1)\n",
    "plt.bar(index,c1_mean,alpha=0.3,color=\"green\")\n",
    "plt.xlabel(\"Simulation runs\")\n",
    "plt.ylabel(\"The mean of distance\")\n",
    "plt.title(\"The average distance of a bus break-down\\n to nearest station for two stretagies\")\n",
    "plt.legend(loc=\"best\",labels=[\"Planned Stations\",\"Current Stations\"])"
   ]
  },
  {
   "cell_type": "markdown",
   "metadata": {},
   "source": [
    "In the simulation for this problem, I run the simulation on a iteration times from 1 to 10000 times by incresing 100 at a time. The graph above shows the average distance from a breakdown point to a station. It is clear that building 3 more stations is way better than the current station's location."
   ]
  }
 ],
 "metadata": {
  "kernelspec": {
   "display_name": "Python 3",
   "language": "python",
   "name": "python3"
  },
  "language_info": {
   "codemirror_mode": {
    "name": "ipython",
    "version": 3
   },
   "file_extension": ".py",
   "mimetype": "text/x-python",
   "name": "python",
   "nbconvert_exporter": "python",
   "pygments_lexer": "ipython3",
   "version": "3.6.7"
  }
 },
 "nbformat": 4,
 "nbformat_minor": 2
}
